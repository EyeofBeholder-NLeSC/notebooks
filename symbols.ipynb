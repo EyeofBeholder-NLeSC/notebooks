{
 "cells": [
  {
   "cell_type": "markdown",
   "id": "aac4c688-d6ad-413a-bc79-117bea825545",
   "metadata": {},
   "source": [
    "# Symbols\n",
    "\n",
    "Run large language models on memes with symbols\n",
    "\n",
    "Documentation: \n",
    "* API: https://platform.openai.com/docs/api-reference/streaming\n",
    "* image processing: https://platform.openai.com/docs/guides/vision"
   ]
  },
  {
   "cell_type": "code",
   "execution_count": 127,
   "id": "e3aa53c7-d3b5-4454-a9ad-6e2551ac02c2",
   "metadata": {},
   "outputs": [],
   "source": [
    "import base64\n",
    "import json\n",
    "import openai\n",
    "import os\n",
    "import pickle\n",
    "import regex\n",
    "import time\n",
    "from IPython.display import HTML"
   ]
  },
  {
   "cell_type": "markdown",
   "id": "10b9b2ad-fcd4-4f43-8ade-50e48bfbf766",
   "metadata": {},
   "source": [
    "## 1. Set the API key location"
   ]
  },
  {
   "cell_type": "code",
   "execution_count": 2,
   "id": "58677e16-2898-4614-84d1-37aaec8d1a6f",
   "metadata": {},
   "outputs": [],
   "source": [
    "KEYFILE = \".openaikey_20241031\""
   ]
  },
  {
   "cell_type": "code",
   "execution_count": 3,
   "id": "52ebb50a-6d18-4d5e-b5ad-de68257fd750",
   "metadata": {},
   "outputs": [],
   "source": [
    "def get_openai_key(keyfile):\n",
    "    infile = open(keyfile, \"r\")\n",
    "    lines = infile.readlines()\n",
    "    infile.close()\n",
    "    return lines[-1].split(\"=\")[-1].strip()"
   ]
  },
  {
   "cell_type": "code",
   "execution_count": 4,
   "id": "97ebcb5d-eefe-4e00-8e0d-1a7ad60af76a",
   "metadata": {},
   "outputs": [],
   "source": [
    "os.environ[\"OPENAI_API_KEY\"] = get_openai_key(KEYFILE)"
   ]
  },
  {
   "cell_type": "markdown",
   "id": "613cb893-c2f2-45b2-9bb1-896158b2f3a8",
   "metadata": {},
   "source": [
    "## 2. Image analysis with ChatGPT"
   ]
  },
  {
   "cell_type": "code",
   "execution_count": 9,
   "id": "4e70da30-79dc-484f-86ce-5ab16127c5f7",
   "metadata": {},
   "outputs": [],
   "source": [
    "image_dir = \"../../data/symbols/final_dataset\"\n",
    "chatgpt_dir = \"chatgpt_output\"\n",
    "prompt = \"What is in this image?\"\n",
    "client = openai.OpenAI()"
   ]
  },
  {
   "cell_type": "code",
   "execution_count": 7,
   "id": "4f599e96-ce18-41f8-a040-cd4f997ece15",
   "metadata": {},
   "outputs": [],
   "source": [
    "def sort_file_names_numerically(list_of_files):\n",
    "    return sorted(list_of_files, key=lambda x: int(os.path.splitext(x)[0]))"
   ]
  },
  {
   "cell_type": "markdown",
   "id": "b926ced0-e0d8-4a28-a7c1-e15c23ff6f14",
   "metadata": {},
   "source": [
    "### 2.1 Perform image analysis "
   ]
  },
  {
   "cell_type": "code",
   "execution_count": 53,
   "id": "bfc8c39a-3109-4b58-a918-deb25a6e070a",
   "metadata": {},
   "outputs": [],
   "source": [
    "def encode_image(image_path):\n",
    "    with open(image_path, \"rb\") as image_file:\n",
    "        base64_data = base64.b64encode(image_file.read()).decode('utf-8')\n",
    "        image_file.close()\n",
    "        return base64_data"
   ]
  },
  {
   "cell_type": "code",
   "execution_count": 54,
   "id": "20f5818c-9507-472c-add5-5d583a6d70fa",
   "metadata": {},
   "outputs": [],
   "source": [
    "def analyze_image(client, image_path, prompt):\n",
    "    base64_image = encode_image(image_path)\n",
    "    response = client.chat.completions.create(\n",
    "        model=\"gpt-4o\",\n",
    "        messages=[{\"role\": \"user\", \"content\": [\n",
    "            { \"type\": \"text\", \"text\": prompt },\n",
    "            { \"type\": \"image_url\", \"image_url\": \n",
    "                { \"url\":  f\"data:image/jpeg;base64,{base64_image}\" },\n",
    "            },\n",
    "        ]}]\n",
    "    )\n",
    "    return response"
   ]
  },
  {
   "cell_type": "code",
   "execution_count": 74,
   "id": "c2927e22-dddb-4280-9edc-3136c218d10c",
   "metadata": {},
   "outputs": [],
   "source": [
    "def store_response(file_name, response):\n",
    "    logfile_name = os.path.join(chatgpt_dir, regex.sub(\"jpg\", \"pkl\", file_name))\n",
    "    with open(logfile_name, \"wb\") as logfile:\n",
    "        pickle.dump(response, logfile)\n",
    "        #print(response, file=logfile)\n",
    "        logfile.close()"
   ]
  },
  {
   "cell_type": "code",
   "execution_count": 75,
   "id": "963d8c7a-2811-4a69-8fa2-80f4d3d3a948",
   "metadata": {},
   "outputs": [
    {
     "name": "stdout",
     "output_type": "stream",
     "text": [
      "2.jpg 3.jpg 4.jpg 5.jpg 6.jpg 7.jpg 8.jpg 9.jpg 10.jpg 11.jpg 12.jpg 13.jpg 14.jpg 15.jpg 16.jpg 17.jpg 18.jpg 19.jpg 20.jpg 21.jpg 22.jpg 23.jpg 24.jpg 25.jpg 26.jpg 27.jpg 28.jpg 29.jpg 30.jpg 31.jpg 32.jpg 33.jpg 34.jpg 35.jpg 36.jpg 37.jpg 38.jpg 39.jpg 40.jpg 41.jpg 42.jpg 43.jpg 44.jpg 46.jpg 47.jpg 48.jpg 49.jpg 50.jpg 51.jpg 52.jpg 53.jpg 54.jpg 55.jpg 56.jpg 57.jpg 58.jpg 59.jpg 61.jpg 62.jpg 63.jpg 64.jpg 65.jpg 66.jpg 67.jpg 68.jpg 69.jpg 70.jpg 71.jpg 72.jpg 73.jpg 74.jpg 75.jpg 76.jpg 77.jpg 78.jpg 79.jpg 80.jpg 81.jpg 82.jpg 83.jpg 84.jpg 85.jpg 86.jpg 87.jpg 88.jpg 89.jpg 90.jpg 91.jpg 92.jpg 93.jpg 94.jpg 95.jpg 96.jpg 97.jpg 98.jpg 99.jpg 100.jpg 101.jpg 102.jpg 103.jpg 104.jpg 106.jpg 107.jpg 108.jpg 109.jpg 111.jpg 112.jpg 113.jpg 114.jpg 115.jpg 116.jpg 117.jpg 118.jpg 119.jpg 120.jpg 121.jpg 122.jpg 123.jpg 124.jpg 125.jpg 126.jpg 127.jpg 128.jpg 129.jpg 130.jpg 131.jpg 132.jpg 133.jpg 134.jpg 135.jpg 136.jpg 137.jpg 138.jpg 139.jpg 140.jpg 141.jpg 142.jpg 143.jpg 144.jpg 145.jpg 146.jpg 147.jpg 148.jpg 149.jpg 150.jpg 151.jpg 152.jpg 153.jpg 154.jpg 155.jpg 156.jpg 157.jpg 158.jpg 159.jpg 160.jpg 161.jpg 162.jpg 163.jpg 164.jpg 165.jpg 166.jpg 167.jpg 168.jpg 169.jpg 171.jpg 172.jpg 173.jpg 174.jpg 175.jpg 176.jpg 177.jpg 178.jpg 179.jpg 180.jpg 181.jpg 182.jpg 183.jpg 184.jpg 185.jpg 186.jpg 187.jpg 188.jpg 189.jpg 190.jpg 191.jpg 193.jpg 194.jpg 195.jpg 196.jpg 197.jpg 198.jpg 199.jpg 200.jpg 201.jpg 202.jpg 203.jpg 204.jpg 205.jpg 206.jpg 207.jpg 208.jpg 209.jpg 210.jpg 211.jpg 212.jpg 213.jpg 214.jpg 215.jpg 216.jpg 217.jpg 218.jpg 219.jpg 220.jpg 221.jpg 222.jpg 223.jpg 224.jpg 226.jpg 227.jpg 228.jpg 229.jpg 230.jpg 231.jpg 232.jpg 233.jpg 234.jpg 235.jpg 236.jpg 237.jpg 238.jpg 239.jpg 240.jpg 241.jpg 242.jpg 243.jpg 244.jpg 245.jpg 246.jpg 247.jpg 248.jpg 249.jpg 250.jpg 251.jpg 252.jpg 253.jpg 254.jpg 255.jpg 256.jpg 257.jpg 258.jpg 259.jpg 260.jpg 261.jpg 262.jpg 263.jpg 264.jpg 265.jpg 266.jpg 267.jpg 268.jpg 269.jpg 270.jpg 271.jpg 272.jpg 273.jpg 274.jpg 275.jpg 276.jpg 277.jpg 278.jpg 279.jpg 280.jpg 281.jpg 282.jpg 283.jpg 284.jpg 285.jpg 286.jpg 287.jpg 288.jpg 289.jpg 290.jpg 291.jpg 293.jpg 294.jpg 295.jpg 296.jpg 297.jpg 298.jpg 299.jpg 300.jpg 301.jpg 303.jpg 304.jpg 305.jpg 306.jpg 307.jpg 308.jpg 309.jpg 310.jpg 311.jpg 312.jpg 313.jpg 314.jpg 315.jpg 316.jpg 317.jpg 318.jpg 319.jpg 320.jpg 321.jpg 322.jpg 323.jpg 324.jpg 325.jpg 326.jpg 327.jpg 328.jpg 329.jpg 330.jpg 331.jpg 332.jpg 333.jpg 334.jpg 335.jpg 336.jpg 337.jpg 339.jpg 340.jpg 341.jpg 342.jpg 343.jpg 344.jpg 345.jpg 346.jpg 347.jpg 348.jpg 349.jpg 350.jpg 351.jpg 352.jpg 353.jpg 354.jpg 355.jpg 356.jpg 357.jpg 358.jpg 359.jpg 360.jpg 361.jpg 362.jpg 363.jpg 364.jpg 365.jpg 366.jpg 367.jpg 368.jpg 369.jpg 370.jpg 371.jpg 372.jpg 373.jpg 374.jpg 375.jpg 376.jpg 377.jpg 378.jpg 379.jpg 380.jpg 381.jpg 382.jpg 383.jpg 384.jpg 385.jpg 386.jpg 387.jpg 388.jpg 389.jpg 390.jpg 391.jpg 392.jpg 393.jpg 394.jpg 395.jpg 396.jpg 397.jpg 398.jpg 399.jpg 400.jpg 401.jpg 402.jpg 403.jpg 404.jpg 405.jpg 406.jpg 407.jpg 408.jpg 409.jpg 410.jpg 411.jpg 412.jpg 413.jpg 414.jpg 415.jpg 416.jpg 417.jpg 418.jpg 419.jpg 420.jpg 421.jpg 422.jpg 423.jpg 424.jpg 425.jpg 426.jpg 427.jpg 428.jpg 429.jpg 430.jpg 431.jpg 432.jpg 433.jpg 434.jpg 435.jpg 436.jpg 437.jpg 438.jpg 439.jpg 440.jpg 441.jpg 442.jpg 443.jpg 444.jpg 445.jpg 446.jpg 447.jpg 448.jpg 449.jpg 450.jpg 451.jpg 452.jpg 453.jpg 454.jpg 455.jpg 456.jpg 457.jpg 459.jpg 460.jpg 461.jpg 462.jpg 463.jpg 464.jpg 465.jpg 466.jpg 467.jpg 468.jpg 469.jpg 470.jpg 471.jpg 472.jpg 473.jpg 474.jpg 475.jpg 476.jpg 477.jpg 478.jpg 479.jpg 480.jpg 481.jpg 482.jpg 483.jpg 484.jpg 485.jpg 486.jpg 487.jpg 488.jpg 489.jpg 490.jpg 491.jpg 492.jpg 493.jpg 494.jpg 495.jpg 496.jpg 497.jpg 498.jpg 499.jpg 500.jpg 501.jpg 502.jpg 504.jpg 505.jpg 506.jpg 507.jpg 508.jpg 509.jpg 510.jpg 511.jpg 512.jpg 513.jpg 514.jpg 516.jpg 517.jpg 518.jpg 519.jpg 520.jpg 521.jpg 522.jpg 523.jpg 524.jpg 525.jpg 526.jpg 527.jpg 528.jpg 529.jpg 531.jpg 532.jpg 533.jpg 534.jpg 535.jpg 536.jpg 537.jpg 538.jpg 539.jpg 540.jpg 541.jpg 542.jpg "
     ]
    }
   ],
   "source": [
    "for file_name in sorted(os.listdir(image_dir), key=lambda x: int(regex.sub(\"...g$\", \"\", x))):\n",
    "    if regex.search(\".jpg$\", file_name):\n",
    "        image_path = os.path.join(image_dir, file_name)\n",
    "        response = analyze_image(client, image_path, prompt)\n",
    "        print(file_name, end=\" \")\n",
    "        store_response(file_name, response)\n",
    "        time.sleep(1)"
   ]
  },
  {
   "cell_type": "markdown",
   "id": "48771ec3-3420-4d2b-931a-458cf337d78a",
   "metadata": {},
   "source": [
    "### 2.2 Analyze responses"
   ]
  },
  {
   "cell_type": "code",
   "execution_count": 5,
   "id": "140f27dc-bb4c-4818-8cd5-ea1ef8e52ff3",
   "metadata": {},
   "outputs": [],
   "source": [
    "def get_response_texts():\n",
    "    response_texts = {}\n",
    "    for file_name in sort_file_names_numerically(os.listdir(chatgpt_dir)):\n",
    "        if os.path.splitext(file_name)[-1] in [\".pkl\"]:\n",
    "            with open(os.path.join(chatgpt_dir, file_name), \"rb\") as infile:\n",
    "                my_object = pickle.load(infile)\n",
    "                infile.close()\n",
    "            response_texts[file_name] = my_object.choices[0].message.content\n",
    "    return response_texts"
   ]
  },
  {
   "cell_type": "code",
   "execution_count": 16,
   "id": "f6364f2c-1536-45f8-9fb9-56a7614cd73c",
   "metadata": {},
   "outputs": [],
   "source": [
    "def select_refused_analyses(response_texts):\n",
    "    return {file_name: text\n",
    "            for file_name, text in response_texts.items() \n",
    "                if len(text) < 100 and \n",
    "                regex.search(\"sorry\", text, regex.IGNORECASE)}"
   ]
  },
  {
   "cell_type": "code",
   "execution_count": 41,
   "id": "42c5ae61-3271-4718-afca-09bd58eb4433",
   "metadata": {},
   "outputs": [],
   "source": [
    "def count_images_with_errors():\n",
    "    return len(os.listdir(os.path.join(image_dir, \"../images_with_errors\")))"
   ]
  },
  {
   "cell_type": "code",
   "execution_count": 138,
   "id": "137cbbd0-7416-44b2-84e6-4638919acead",
   "metadata": {},
   "outputs": [],
   "source": [
    "response_texts = get_response_texts()\n",
    "refused_analyses = select_refused_analyses(response_texts)"
   ]
  },
  {
   "cell_type": "code",
   "execution_count": 43,
   "id": "f644a264-b677-4ce2-8289-606fdf3fbc61",
   "metadata": {},
   "outputs": [
    {
     "name": "stdout",
     "output_type": "stream",
     "text": [
      "number of successful analyses: 431\n",
      "number of refused analyses:    96\n",
      "broken image files:            15\n"
     ]
    }
   ],
   "source": [
    "print(\"number of successful analyses:\", len(response_texts) - len(refused_analyses))\n",
    "print(\"number of refused analyses:   \", len(refused_analyses))\n",
    "print(\"broken image files:           \", count_images_with_errors())"
   ]
  },
  {
   "cell_type": "code",
   "execution_count": 19,
   "id": "f784c6be-6522-4572-a58a-e404aa1f8617",
   "metadata": {},
   "outputs": [],
   "source": [
    "symbol_file_name = \"ontox_dict.json\"\n",
    "\n",
    "def read_symbol_file(symbol_file_name):\n",
    "    with open(os.path.join(image_dir, \"..\", symbol_file_name), \"r\") as infile:\n",
    "        symbol_df = json.load(infile)\n",
    "        infile.close()\n",
    "    return symbol_df"
   ]
  },
  {
   "cell_type": "code",
   "execution_count": 22,
   "id": "6ae90578-4a6b-40cc-acae-19a529f6a425",
   "metadata": {},
   "outputs": [],
   "source": [
    "def get_symbols_per_meme(symbol_df):\n",
    "    return {file: symbol_df[symbol][\"Title\"] \n",
    "            for symbol in symbol_df \n",
    "            if \"Referenced_in_meme\" in symbol_df[symbol] \n",
    "            for file in symbol_df[symbol][\"Referenced_in_meme\"]}"
   ]
  },
  {
   "cell_type": "code",
   "execution_count": 176,
   "id": "56970ea8-430d-4f8f-9dfc-dbca5953416e",
   "metadata": {},
   "outputs": [],
   "source": [
    "def check_analyses_for_symbols(response_texts, symbols_per_meme):\n",
    "    matched_memes = {}\n",
    "    missing_images = []\n",
    "    for pkl_file_name in response_texts:\n",
    "        if pkl_file_name not in refused_analyses:\n",
    "            base_file_name = os.path.splitext(pkl_file_name)[0]\n",
    "            symbol_title = symbol_titles.get(base_file_name + \".png\")\n",
    "            if not symbol_title:\n",
    "                missing_images.append(base_file_name)\n",
    "            elif regex.search(symbol_title, response_texts[pkl_file_name], regex.IGNORECASE):\n",
    "                matched_memes[symbol_title] = matched_memes.get(symbol_title, 0) + 1\n",
    "    if missing_images:\n",
    "        print(f\"{len(missing_images)} memes not found in symbol database! {missing_images}\")\n",
    "    return matched_memes"
   ]
  },
  {
   "cell_type": "code",
   "execution_count": 178,
   "id": "d66dbdb8-6d07-456a-847c-212eb39bd3f7",
   "metadata": {},
   "outputs": [],
   "source": [
    "def show_texts_with_symbols(response_texts, symbols_per_meme):\n",
    "    for pkl_file_name in response_texts:\n",
    "        if pkl_file_name not in refused_analyses:\n",
    "            base_file_name = os.path.splitext(pkl_file_name)[0]\n",
    "            symbol_title = symbol_titles.get(base_file_name + \".png\")\n",
    "            if symbol_title:\n",
    "                if matches := list(regex.finditer(symbol_title, response_texts[pkl_file_name], regex.IGNORECASE)):\n",
    "                    text = response_texts[pkl_file_name]\n",
    "                    for match in matches[::-1]:\n",
    "                        start = match.start()\n",
    "                        end = match.end()\n",
    "                        text = text[:start] + \"<span style=\\\"color:blue\\\">\" + text[start: end] +\"</span>\" + text[end:]\n",
    "                    matches = list(regex.finditer(\"text\", text, regex.IGNORECASE))\n",
    "                    for match in matches[::-1]:\n",
    "                        start = match.start()\n",
    "                        end = match.end()\n",
    "                        text = text[:start] + \"<span style=\\\"color:red\\\">\" + text[start: end] +\"</span>\" + text[end:]\n",
    "                    display(HTML(pkl_file_name + \": \" + text))"
   ]
  },
  {
   "cell_type": "code",
   "execution_count": 177,
   "id": "50a61f9f-1864-46b0-97dc-2007282c08fe",
   "metadata": {},
   "outputs": [
    {
     "name": "stdout",
     "output_type": "stream",
     "text": [
      "18 memes not found in symbol database! ['524', '525', '526', '527', '528', '529', '531', '532', '533', '534', '535', '536', '537', '538', '539', '540', '541', '542']\n"
     ]
    }
   ],
   "source": [
    "symbol_df = read_symbol_file(symbol_file_name)\n",
    "symbols_per_meme = get_symbols_per_meme(symbol_df)\n",
    "matched_memes = check_analyses_for_symbols(response_texts, symbols_per_meme)"
   ]
  },
  {
   "cell_type": "code",
   "execution_count": 181,
   "id": "0724842f-3efb-4c44-aee3-c86565206108",
   "metadata": {},
   "outputs": [
    {
     "name": "stdout",
     "output_type": "stream",
     "text": [
      "number of memes with a matched symbol: 145\n",
      "number of symbols with a matched meme: 30\n"
     ]
    }
   ],
   "source": [
    "print(\"number of memes with a matched symbol:\", sum([count for file_name, count in matched_memes.items()]))\n",
    "print(\"number of symbols with a matched meme:\", len(matched_memes))"
   ]
  },
  {
   "cell_type": "markdown",
   "id": "80e132b7-300e-429b-8b17-bdcfcdc96e3b",
   "metadata": {},
   "source": [
    "Result of manual analysis of output of `show_texts_with_symbols(response_texts, symbols_per_meme)`:\n",
    "* only 9 of the 145 found symbols are solely based on visual clues\n",
    "* the other 136 symbol matches are based on text in the memes\n",
    "* the exceptions are meme numbers 62, 63, 65, 68, 70, 73 (Pepe the Frog), 146, 149, (Kekistan flag) and 391 (LGTB flag)"
   ]
  },
  {
   "cell_type": "code",
   "execution_count": 186,
   "id": "eda0053c-c591-4965-9fa6-358192de24ef",
   "metadata": {},
   "outputs": [],
   "source": [
    "# show_texts_with_symbols(response_texts, symbols_per_meme)"
   ]
  },
  {
   "cell_type": "markdown",
   "id": "0bec5842-ff27-4d98-b0c0-06b794cc39b4",
   "metadata": {},
   "source": [
    "## 3. Image analysis with Llava:34b"
   ]
  },
  {
   "cell_type": "code",
   "execution_count": 149,
   "id": "0ecd10a6-353f-4e90-9792-dffe9ca77737",
   "metadata": {},
   "outputs": [],
   "source": [
    "llava_dir = \"llava_output\"\n",
    "llava_prompt = \"What is in this image? In particular mention all the text you can find in the image\""
   ]
  },
  {
   "cell_type": "code",
   "execution_count": 169,
   "id": "7c031a54-83a1-4e18-abde-382a3fd15724",
   "metadata": {},
   "outputs": [],
   "source": [
    "def get_llava_response_texts():\n",
    "    llava_response_texts = {}\n",
    "    for file_name in sort_file_names_numerically(os.listdir(llava_dir)):\n",
    "        with open(os.path.join(llava_dir, file_name), \"r\") as infile:\n",
    "            llava_response_texts[file_name.replace(\"txt\", \"pkl\")] = \" \".join([sentence.strip() for sentence in infile.readlines()])\n",
    "            infile.close()\n",
    "    return llava_response_texts"
   ]
  },
  {
   "cell_type": "code",
   "execution_count": 170,
   "id": "c4c1a4f8-ee15-4a70-96c0-de2d8c141f87",
   "metadata": {},
   "outputs": [],
   "source": [
    "llava_response_texts = get_llava_response_texts()\n",
    "llava_refused_analyses = select_refused_analyses(llava_response_texts)"
   ]
  },
  {
   "cell_type": "code",
   "execution_count": 171,
   "id": "9a05ff7d-afc4-40fd-9852-da82e7b9a9a3",
   "metadata": {},
   "outputs": [
    {
     "name": "stdout",
     "output_type": "stream",
     "text": [
      "number of successful analyses: 527\n",
      "number of refused analyses:    0\n",
      "broken image files:            15\n"
     ]
    }
   ],
   "source": [
    "print(\"number of successful analyses:\", len(llava_response_texts) - len(llava_refused_analyses))\n",
    "print(\"number of refused analyses:   \", len(llava_refused_analyses))\n",
    "print(\"broken image files:           \", count_images_with_errors())"
   ]
  },
  {
   "cell_type": "code",
   "execution_count": 173,
   "id": "c353b393-855d-4062-8566-c73b3a346a21",
   "metadata": {},
   "outputs": [
    {
     "name": "stdout",
     "output_type": "stream",
     "text": [
      "18 memes not found in symbol database! ['524.png', '525.png', '526.png', '527.png', '528.png', '529.png', '531.png', '532.png', '533.png', '534.png', '535.png', '536.png', '537.png', '538.png', '539.png', '540.png', '541.png', '542.png']\n"
     ]
    }
   ],
   "source": [
    "llava_matched_memes = check_analyses_for_symbols(llava_response_texts, symbols_per_meme)"
   ]
  },
  {
   "cell_type": "code",
   "execution_count": 183,
   "id": "f773df82-91d8-4853-bc2c-03036cdd7edd",
   "metadata": {},
   "outputs": [
    {
     "name": "stdout",
     "output_type": "stream",
     "text": [
      "number of memes with a matched symbol: 108\n",
      "number of symbols with a matched meme: 27\n"
     ]
    }
   ],
   "source": [
    "print(\"number of memes with a matched symbol:\", sum([count for file_name, count in llava_matched_memes.items()]))\n",
    "print(\"number of symbols with a matched meme:\", len(llava_matched_memes))"
   ]
  },
  {
   "cell_type": "code",
   "execution_count": 187,
   "id": "b93eaadd-1f71-4341-93f2-942188659dc1",
   "metadata": {},
   "outputs": [],
   "source": [
    "# show_texts_with_symbols(llava_response_texts, symbols_per_meme)"
   ]
  },
  {
   "cell_type": "code",
   "execution_count": null,
   "id": "294c9225-0db1-4974-b77b-4a420f97617b",
   "metadata": {},
   "outputs": [],
   "source": []
  }
 ],
 "metadata": {
  "kernelspec": {
   "display_name": "Python 3 (ipykernel)",
   "language": "python",
   "name": "python3"
  },
  "language_info": {
   "codemirror_mode": {
    "name": "ipython",
    "version": 3
   },
   "file_extension": ".py",
   "mimetype": "text/x-python",
   "name": "python",
   "nbconvert_exporter": "python",
   "pygments_lexer": "ipython3",
   "version": "3.12.5"
  }
 },
 "nbformat": 4,
 "nbformat_minor": 5
}
